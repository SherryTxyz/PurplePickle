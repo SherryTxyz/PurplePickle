{
 "cells": [
  {
   "cell_type": "markdown",
   "metadata": {
    "colab_type": "text",
    "id": "Tia3MP1SJpgj"
   },
   "source": [
    "# London Housing Case Study - Tier 3 Complete\n",
    "\n",
    "## Objectives\n",
    "Hey! Great job getting through those challenging DataCamp courses. You're learning a lot in a short span of time. \n",
    "\n",
    "In this notebook, you're going to apply the skills you've been learning, bridging the gap between the controlled environment of DataCamp and the *slightly* messier work that data scientists do with actual datasets!\n",
    "\n",
    "Here’s the mystery we’re going to solve: ***which boroughs of London have seen the greatest increase in housing prices, on average, over the last two decades?***\n",
    "\n",
    "\n",
    "A borough is just a fancy word for district. You may be familiar with the five boroughs of New York… well, there are 32 boroughs within Greater London [(here's some info for the curious)](https://en.wikipedia.org/wiki/London_boroughs). Some of them are more desirable areas to live in, and the data will reflect that with a greater rise in housing prices.\n",
    "\n",
    "***This is the Tier 3 notebook, which means it's not filled in at all: we'll just give you the skeleton of a project, the brief and the data. It's up to you to play around with it and see what you can find out! Good luck! If you struggle, feel free to look at easier tiers for help; but try to dip in and out of them, as the more independent work you do, the better it is for your learning!***\n",
    "\n",
    "This challenge will make use of only what you learned in the following DataCamp courses: \n",
    "- Prework courses (Introduction to Python for Data Science, Intermediate Python for Data Science)\n",
    "- Data Types for Data Science\n",
    "- Python Data Science Toolbox (Part One) \n",
    "- pandas Foundations\n",
    "- Manipulating DataFrames with pandas\n",
    "- Merging DataFrames with pandas\n",
    "\n",
    "Of the tools, techniques and concepts in the above DataCamp courses, this challenge should require the application of the following: \n",
    "- **pandas**\n",
    "    - **data ingestion and inspection** (pandas Foundations, Module One) \n",
    "    - **exploratory data analysis** (pandas Foundations, Module Two)\n",
    "    - **tidying and cleaning** (Manipulating DataFrames with pandas, Module Three) \n",
    "    - **transforming DataFrames** (Manipulating DataFrames with pandas, Module One)\n",
    "    - **subsetting DataFrames with lists** (Manipulating DataFrames with pandas, Module One) \n",
    "    - **filtering DataFrames** (Manipulating DataFrames with pandas, Module One) \n",
    "    - **grouping data** (Manipulating DataFrames with pandas, Module Four) \n",
    "    - **melting data** (Manipulating DataFrames with pandas, Module Three) \n",
    "    - **advanced indexing** (Manipulating DataFrames with pandas, Module Four) \n",
    "- **matplotlib** (Intermediate Python for Data Science, Module One)\n",
    "- **fundamental data types** (Data Types for Data Science, Module One) \n",
    "- **dictionaries** (Intermediate Python for Data Science, Module Two)\n",
    "- **handling dates and times** (Data Types for Data Science, Module Four)\n",
    "- **function definition** (Python Data Science Toolbox - Part One, Module One)\n",
    "- **default arguments, variable length, and scope** (Python Data Science Toolbox - Part One, Module Two) \n",
    "- **lambda functions and error handling** (Python Data Science Toolbox - Part One, Module Four) "
   ]
  },
  {
   "cell_type": "markdown",
   "metadata": {
    "colab_type": "text",
    "id": "Ipgd2nV8Jpgl"
   },
   "source": [
    "## The Data Science Pipeline\n",
    "\n",
    "This is Tier Three, so we'll get you started. But after that, it's all in your hands! When you feel done with your investigations, look back over what you've accomplished, and prepare a quick presentation of your findings for the next mentor meeting. \n",
    "\n",
    "Data Science is magical. In this case study, you'll get to apply some complex machine learning algorithms. But as  [David Spiegelhalter](https://www.youtube.com/watch?v=oUs1uvsz0Ok) reminds us, there is no substitute for simply **taking a really, really good look at the data.** Sometimes, this is all we need to answer our question.\n",
    "\n",
    "Data Science projects generally adhere to the four stages of Data Science Pipeline:\n",
    "1. Sourcing and loading \n",
    "2. Cleaning, transforming, and visualizing \n",
    "3. Modeling \n",
    "4. Evaluating and concluding \n"
   ]
  },
  {
   "cell_type": "markdown",
   "metadata": {
    "colab_type": "text",
    "id": "zswDqbefJpgm"
   },
   "source": [
    "### 1. Sourcing and Loading \n",
    "\n",
    "Any Data Science project kicks off by importing  ***pandas***. The documentation of this wonderful library can be found [here](https://pandas.pydata.org/). As you've seen, pandas is conveniently connected to the [Numpy](http://www.numpy.org/) and [Matplotlib](https://matplotlib.org/) libraries. \n",
    "\n",
    "***Hint:*** This part of the data science pipeline will test those skills you acquired in the pandas Foundations course, Module One. "
   ]
  },
  {
   "cell_type": "markdown",
   "metadata": {
    "colab_type": "text",
    "id": "aEau5nEvJpgm"
   },
   "source": [
    "#### 1.1. Importing Libraries"
   ]
  },
  {
   "cell_type": "code",
   "execution_count": 360,
   "metadata": {
    "colab": {},
    "colab_type": "code",
    "id": "7Bt_Q_oPJpgn"
   },
   "outputs": [
    {
     "ename": "ImportError",
     "evalue": "cannot import name 'counter' from 'collections' (C:\\Users\\sherry.thompson\\Anaconda3\\lib\\collections\\__init__.py)",
     "output_type": "error",
     "traceback": [
      "\u001b[1;31m---------------------------------------------------------------------------\u001b[0m",
      "\u001b[1;31mImportError\u001b[0m                               Traceback (most recent call last)",
      "\u001b[1;32m<ipython-input-360-ecfd83ff0011>\u001b[0m in \u001b[0;36m<module>\u001b[1;34m\u001b[0m\n\u001b[0;32m      6\u001b[0m \u001b[1;32mfrom\u001b[0m \u001b[0mdatetime\u001b[0m \u001b[1;32mimport\u001b[0m \u001b[0mdatetime\u001b[0m\u001b[1;33m\u001b[0m\u001b[1;33m\u001b[0m\u001b[0m\n\u001b[0;32m      7\u001b[0m \u001b[1;32mimport\u001b[0m \u001b[0mdatetime\u001b[0m\u001b[1;33m\u001b[0m\u001b[1;33m\u001b[0m\u001b[0m\n\u001b[1;32m----> 8\u001b[1;33m \u001b[1;32mfrom\u001b[0m \u001b[0mcollections\u001b[0m \u001b[1;32mimport\u001b[0m \u001b[0mcounter\u001b[0m\u001b[1;33m\u001b[0m\u001b[1;33m\u001b[0m\u001b[0m\n\u001b[0m",
      "\u001b[1;31mImportError\u001b[0m: cannot import name 'counter' from 'collections' (C:\\Users\\sherry.thompson\\Anaconda3\\lib\\collections\\__init__.py)"
     ]
    }
   ],
   "source": [
    "# Let's import the pandas, numpy libraries as pd, and np respectively. \n",
    "import pandas as pd\n",
    "\n",
    "# Load the pyplot collection of functions from matplotlib, as plt \n",
    "import matplotlib.pyplot as plt\n",
    "from datetime import datetime\n",
    "import datetime\n",
    "from collections import counter"
   ]
  },
  {
   "cell_type": "markdown",
   "metadata": {
    "colab_type": "text",
    "id": "koUrawxsJpgq"
   },
   "source": [
    "#### 1.2.  Loading the data\n",
    "Your data comes from the [London Datastore](https://data.london.gov.uk/): a free, open-source data-sharing portal for London-oriented datasets. "
   ]
  },
  {
   "cell_type": "code",
   "execution_count": null,
   "metadata": {
    "colab": {},
    "colab_type": "code",
    "id": "AiLiD4v3Jpgr"
   },
   "outputs": [],
   "source": [
    "# First, make a variable called url_LondonHousePrices, and assign it the following link, enclosed in quotation-marks as a string:\n",
    "# https://data.london.gov.uk/download/uk-house-price-index/70ac0766-8902-4eb5-aab5-01951aaed773/UK%20House%20price%20index.xls\n",
    "\n",
    "url_LondonHousePrices = \"https://data.london.gov.uk/download/uk-house-price-index/70ac0766-8902-4eb5-aab5-01951aaed773/UK%20House%20price%20index.xls\"\n",
    "\n",
    "# The dataset we're interested in contains the Average prices of the houses, and is actually on a particular sheet of the Excel file. \n",
    "# As a result, we need to specify the sheet name in the read_excel() method.\n",
    "# Put this data into a variable called properties.  \n",
    "properties = pd.read_excel(url_LondonHousePrices, sheet_name='Average price', index_col= None)"
   ]
  },
  {
   "cell_type": "markdown",
   "metadata": {
    "colab_type": "text",
    "id": "POukEJXgJpgu"
   },
   "source": [
    "### 2. Cleaning, transforming, and visualizing\n",
    "This second stage is arguably the most important part of any Data Science project. The first thing to do is take a proper look at the data. Cleaning forms the majority of this stage, and can be done both before or after Transformation.\n",
    "\n",
    "The end goal of data cleaning is to have tidy data. When data is tidy: \n",
    "\n",
    "1. Each variable has a column.\n",
    "2. Each observation forms a row.\n",
    "\n",
    "Keep the end goal in mind as you move through this process, every step will take you closer. \n",
    "\n",
    "\n",
    "\n",
    "***Hint:*** This part of the data science pipeline should test those skills you acquired in: \n",
    "- Intermediate Python for data science, all modules.\n",
    "- pandas Foundations, all modules. \n",
    "- Manipulating DataFrames with pandas, all modules.\n",
    "- Data Types for Data Science, Module Four.\n",
    "- Python Data Science Toolbox - Part One, all modules"
   ]
  },
  {
   "cell_type": "markdown",
   "metadata": {
    "colab_type": "text",
    "id": "Te0Q548tnzZa"
   },
   "source": [
    "**2.1. Exploring your data** \n",
    "\n",
    "Think about your pandas functions for checking out a dataframe. "
   ]
  },
  {
   "cell_type": "code",
   "execution_count": null,
   "metadata": {
    "colab": {},
    "colab_type": "code",
    "id": "Rxirxw_qoAJa"
   },
   "outputs": [],
   "source": [
    "properties.info()\n",
    "properties.shape\n",
    "print(properties.head())\n",
    "properties.columns\n",
    "properties.index"
   ]
  },
  {
   "cell_type": "markdown",
   "metadata": {
    "colab_type": "text",
    "id": "tE9Sqt9-oAta"
   },
   "source": [
    "**2.2. Cleaning the data**\n",
    "\n",
    "You might find you need to transpose your dataframe, check out what its row indexes are, and reset the index. You  also might find you need to assign the values of the first row to your column headings  . (Hint: recall the .columns feature of DataFrames, as well as the iloc[] method).\n",
    "\n",
    "Don't be afraid to use StackOverflow for help  with this."
   ]
  },
  {
   "cell_type": "code",
   "execution_count": null,
   "metadata": {
    "colab": {},
    "colab_type": "code",
    "id": "cdAu1A3YoH_r"
   },
   "outputs": [],
   "source": [
    "properties_clean = properties.transpose().reset_index()\n",
    "properties_clean.columns = properties_clean.iloc[0]"
   ]
  },
  {
   "cell_type": "markdown",
   "metadata": {
    "colab_type": "text",
    "id": "o1uLbJAsoIjK"
   },
   "source": [
    "**2.3. Cleaning the data (part 2)**\n",
    "\n",
    "You might we have to **rename** a couple columns. How do you do this? The clue's pretty bold..."
   ]
  },
  {
   "cell_type": "code",
   "execution_count": null,
   "metadata": {
    "colab": {},
    "colab_type": "code",
    "id": "GKkmn1AnoVZS"
   },
   "outputs": [],
   "source": [
    "properties_clean.rename(columns={'Unnamed: 0': 'borough', pd.NaT: 'b_no'}, inplace=True)\n",
    "mapper = lambda x: x.strftime('%m-%d-%Y') if isinstance(x, datetime.datetime) else x\n",
    "properties_clean.columns = properties_clean.columns.map(mapper)"
   ]
  },
  {
   "cell_type": "markdown",
   "metadata": {
    "colab_type": "text",
    "id": "jy8BzXHmoWEw"
   },
   "source": [
    "**2.4.Transforming the data**\n",
    "\n",
    "Remember what Wes McKinney said about tidy data? \n",
    "\n",
    "You might need to **melt** your DataFrame here. "
   ]
  },
  {
   "cell_type": "code",
   "execution_count": null,
   "metadata": {
    "colab": {},
    "colab_type": "code",
    "id": "S2wM0qLuo2Zt"
   },
   "outputs": [],
   "source": [
    "properties_melted = properties_clean.melt(id_vars=['borough','b_no'], var_name=['date'], value_name='avg_price')\n",
    "print(properties_melted.head(10))"
   ]
  },
  {
   "cell_type": "markdown",
   "metadata": {
    "colab_type": "text",
    "id": "7kIsgAo7o3mf"
   },
   "source": [
    "Remember to make sure your column data types are all correct. Average prices, for example, should be floating point numbers... "
   ]
  },
  {
   "cell_type": "code",
   "execution_count": 361,
   "metadata": {
    "colab": {},
    "colab_type": "code",
    "id": "ZcR4IHbcpOaq"
   },
   "outputs": [
    {
     "name": "stdout",
     "output_type": "stream",
     "text": [
      "borough      object\n",
      "b_no         object\n",
      "date         object\n",
      "avg_price    object\n",
      "dtype: object\n",
      "<class 'str'>\n",
      "<class 'str'>\n",
      "<class 'str'>\n",
      "<class 'float'>\n",
      "                 borough       b_no        date    avg_price\n",
      "2     Barking & Dagenham  E09000002  01-01-1995   50460.2266\n",
      "3                 Barnet  E09000003  01-01-1995  93284.51832\n",
      "4                 Bexley  E09000004  01-01-1995  64958.09036\n",
      "5                  Brent  E09000005  01-01-1995  71306.56698\n",
      "6                Bromley  E09000006  01-01-1995  81671.47692\n",
      "7                 Camden  E09000007  01-01-1995  120932.8881\n",
      "8                Croydon  E09000008  01-01-1995  69158.16225\n",
      "9                 Ealing  E09000009  01-01-1995  79885.89069\n",
      "10               Enfield  E09000010  01-01-1995  72514.69096\n",
      "11             Greenwich  E09000011  01-01-1995  62300.10169\n",
      "12               Hackney  E09000012  01-01-1995  61296.52637\n",
      "13  Hammersmith & Fulham  E09000013  01-01-1995  124902.8602\n",
      "14              Haringey  E09000014  01-01-1995  76287.56947\n",
      "15                Harrow  E09000015  01-01-1995  84769.52599\n",
      "16              Havering  E09000016  01-01-1995  68000.13774\n",
      "17            Hillingdon  E09000017  01-01-1995  73834.82964\n",
      "18              Hounslow  E09000018  01-01-1995  72231.70537\n",
      "19             Islington  E09000019  01-01-1995  92516.48557\n",
      "20  Kensington & Chelsea  E09000020  01-01-1995  182694.8326\n",
      "21  Kingston upon Thames  E09000021  01-01-1995  80875.84843\n",
      "22               Lambeth  E09000022  01-01-1995  67770.98843\n",
      "23              Lewisham  E09000023  01-01-1995  60491.26109\n",
      "24                Merton  E09000024  01-01-1995   82070.6133\n",
      "25                Newham  E09000025  01-01-1995  53539.31919\n",
      "26             Redbridge  E09000026  01-01-1995  72189.58437\n",
      "27  Richmond upon Thames  E09000027  01-01-1995  109326.1245\n",
      "28             Southwark  E09000028  01-01-1995  67885.20344\n",
      "29                Sutton  E09000029  01-01-1995  71536.97357\n",
      "30         Tower Hamlets  E09000030  01-01-1995  59865.18995\n",
      "31        Waltham Forest  E09000031  01-01-1995  61319.44913\n",
      "32            Wandsworth  E09000032  01-01-1995  88559.04381\n",
      "33           Westminster  E09000033  01-01-1995  133025.2772\n",
      "51    Barking & Dagenham  E09000002  02-01-1995  51085.77983\n",
      "52                Barnet  E09000003  02-01-1995  93190.16963\n",
      "53                Bexley  E09000004  02-01-1995  64787.92069\n"
     ]
    }
   ],
   "source": [
    "properties_simple = properties_melted.drop([properties_melted.index[0], properties_melted.index[1]])\n",
    "print(properties_simple.dtypes)\n",
    "print(type(properties_simple['borough'].iat[0]))\n",
    "print(type(properties_simple['b_no'].iat[0]))\n",
    "print(type(properties_simple['date'].iat[0]))\n",
    "print(type(properties_simple['avg_price'].iat[0]))\n",
    "filter = ['Barking & Dagenham', 'Barnet', 'Bexley', 'Brent', 'Bromley', 'Camden', 'Croydon', 'Ealing', 'Enfield', 'Greenwich', 'Hackney', 'Hammersmith & Fulham', 'Haringey', 'Harrow', 'Havering', 'Hillingdon', 'Hounslow', 'Islington', 'Kensington & Chelsea', 'Kingston upon Thames', 'Lambeth', 'Lewisham', 'Merton', 'Newham', 'Redbridge', 'Richmond upon Thames', 'Southwark', 'Sutton', 'Tower Hamlets', 'Waltham Forest', 'Wandsworth', 'Westminster']\n",
    "properties_simple2 = properties_simple[properties_simple.borough.isin(filter)]\n",
    "print(properties_simple2.head(35))"
   ]
  },
  {
   "cell_type": "markdown",
   "metadata": {
    "colab_type": "text",
    "id": "knLUXHLypOtw"
   },
   "source": [
    "**2.5. Cleaning the data (part 3)**\n",
    "\n",
    "Do we have an equal number of observations in the ID, Average Price, Month, and London Borough columns? Remember that there are only 32 London Boroughs. How many entries do you have in that column? \n",
    "\n",
    "Check out the contents of the London Borough column, and if you find null values, get rid of them however you see fit. "
   ]
  },
  {
   "cell_type": "code",
   "execution_count": 467,
   "metadata": {
    "colab": {},
    "colab_type": "code",
    "id": "BnvTW5a3p0fC"
   },
   "outputs": [
    {
     "name": "stdout",
     "output_type": "stream",
     "text": [
      "<class 'float'>\n",
      "borough       object\n",
      "b_no          object\n",
      "date          object\n",
      "avg_price    float64\n",
      "year           int64\n",
      "dtype: object\n",
      "               borough  year      avg_price\n",
      "0   Barking & Dagenham  1995   51817.969390\n",
      "1   Barking & Dagenham  1996   51718.192690\n",
      "2   Barking & Dagenham  1997   55974.262309\n",
      "3   Barking & Dagenham  1998   60285.821083\n",
      "4   Barking & Dagenham  1999   65320.934441\n",
      "5   Barking & Dagenham  2000   77549.513290\n",
      "6   Barking & Dagenham  2001   88664.058223\n",
      "7   Barking & Dagenham  2002  112221.912482\n",
      "8   Barking & Dagenham  2003  142498.927800\n",
      "9   Barking & Dagenham  2004  158175.982483\n",
      "10  Barking & Dagenham  2005  163360.782017\n",
      "11  Barking & Dagenham  2006  167853.342558\n",
      "12  Barking & Dagenham  2007  184909.807383\n",
      "13  Barking & Dagenham  2008  187356.865783\n",
      "14  Barking & Dagenham  2009  156446.896358\n",
      "15  Barking & Dagenham  2010  166560.705275\n",
      "16  Barking & Dagenham  2011  163465.144225\n",
      "17  Barking & Dagenham  2012  165863.911600\n",
      "18  Barking & Dagenham  2013  173733.624933\n",
      "19  Barking & Dagenham  2014  201172.229417\n"
     ]
    },
    {
     "name": "stderr",
     "output_type": "stream",
     "text": [
      "<ipython-input-467-03a52297a5b5>:1: UserWarning: Boolean Series key will be reindexed to match DataFrame index.\n",
      "  properties_isol = properties_simple2[properties_simple['b_no'].notna()]\n"
     ]
    }
   ],
   "source": [
    "properties_isol = properties_simple2[properties_simple['b_no'].notna()]\n",
    "properties_isol2 = properties_isol.dropna()\n",
    "properties_isol2['year'] = pd.DatetimeIndex(properties_isol2['date']).year\n",
    "print(type(properties_simple['avg_price'].iat[0]))\n",
    "properties_isol3 = properties_isol2.apply(pd.to_numeric, errors='ignore')\n",
    "print(properties_isol3.dtypes)\n",
    "properties_final = properties_isol3.groupby(['borough', 'year'], as_index=False).mean()\n",
    "print(properties_final.head(20))\n",
    "\n",
    "\n"
   ]
  },
  {
   "cell_type": "markdown",
   "metadata": {
    "colab_type": "text",
    "id": "PGEx6mJsp6dG"
   },
   "source": [
    "**2.6. Visualizing the data**\n",
    "\n",
    "To visualize the data, why not subset on a particular London Borough? Maybe do a line plot of Month against Average Price?"
   ]
  },
  {
   "cell_type": "code",
   "execution_count": 457,
   "metadata": {
    "colab": {},
    "colab_type": "code",
    "id": "nAg5pT9cqHAR"
   },
   "outputs": [
    {
     "data": {
      "image/png": "[encoded data removed]",
      "text/plain": [
       "<Figure size 432x288 with 1 Axes>"
      ]
     },
     "metadata": {
      "needs_background": "light"
     },
     "output_type": "display_data"
    },
    {
     "data": {
      "image/png": "[encoded data removed]",
      "text/plain": [
       "<Figure size 432x288 with 1 Axes>"
      ]
     },
     "metadata": {
      "needs_background": "light"
     },
     "output_type": "display_data"
    }
   ],
   "source": [
    "barnet = properties_isol2[properties_isol2['borough'] == 'Lambeth']\n",
    "barnet_graph = barnet.plot(x='date', y='avg_price', kind='line')\n",
    "\n",
    "\n",
    "all_graph = properties_isol2.plot(x='date', y='avg_price', kind='line')"
   ]
  },
  {
   "cell_type": "markdown",
   "metadata": {
    "colab_type": "text",
    "id": "aWTPqSJeqHnC"
   },
   "source": [
    "To limit the number of data points you have, you might want to extract the year from every month value your *Month* column. \n",
    "\n",
    "To this end, you *could* apply a ***lambda function***. Your logic could work as follows:\n",
    "1. look through the `Month` column\n",
    "2. extract the year from each individual value in that column \n",
    "3. store that corresponding year as separate column. \n",
    "\n",
    "Whether you go ahead with this is up to you. Just so long as you answer our initial brief: which boroughs of London have seen the greatest house price increase, on average, over the past two decades? "
   ]
  },
  {
   "cell_type": "code",
   "execution_count": 469,
   "metadata": {
    "colab": {},
    "colab_type": "code",
    "id": "e0DF92cyqnu8"
   },
   "outputs": [
    {
     "data": {
      "image/png": "[encoded data removed]",
      "text/plain": [
       "<Figure size 432x288 with 1 Axes>"
      ]
     },
     "metadata": {
      "needs_background": "light"
     },
     "output_type": "display_data"
    }
   ],
   "source": [
    "all_graph = properties_final.plot(x='year', y='avg_price', kind='line')"
   ]
  },
  {
   "cell_type": "markdown",
   "metadata": {
    "colab_type": "text",
    "id": "2knuTxAEqoJ4"
   },
   "source": [
    "**3. Modeling**\n",
    "\n",
    "Consider creating a function that will calculate a ratio of house prices, comparing the price of a house in 2018 to the price in 1998.\n",
    "\n",
    "Consider calling this function create_price_ratio.\n",
    "\n",
    "You'd want this function to:\n",
    "1. Take a filter of dfg, specifically where this filter constrains the London_Borough, as an argument. For example, one admissible argument should be: dfg[dfg['London_Borough']=='Camden'].\n",
    "2. Get the Average Price for that Borough, for the years 1998 and 2018.\n",
    "4. Calculate the ratio of the Average Price for 1998 divided by the Average Price for 2018.\n",
    "5. Return that ratio.\n",
    "\n",
    "Once you've written this function, you ultimately want to use it to iterate through all the unique London_Boroughs and work out the ratio capturing the difference of house prices between 1998 and 2018.\n",
    "\n",
    "Bear in mind: you don't have to write a function like this if you don't want to. If you can solve the brief otherwise, then great! \n",
    "\n",
    "***Hint***: This section should test the skills you acquired in:\n",
    "- Python Data Science Toolbox - Part One, all modules"
   ]
  },
  {
   "cell_type": "code",
   "execution_count": 505,
   "metadata": {
    "colab": {},
    "colab_type": "code",
    "id": "cKTyr437UgDa"
   },
   "outputs": [
    {
     "name": "stdout",
     "output_type": "stream",
     "text": [
      "[519.8285561008662]\n",
      "   Barking & Dagenham      Barnet      Bexley      Brent     Bromley  \\\n",
      "0          389.661861  335.819592  324.897705  389.45545  309.478469   \n",
      "\n",
      "       Camden     Croydon     Ealing     Enfield   Greenwich  ...      Merton  \\\n",
      "0  393.535341  320.110028  331.14509  326.347158  376.303635  ...  374.127331   \n",
      "\n",
      "       Newham   Redbridge  Richmond upon Thames  Southwark      Sutton  \\\n",
      "0  430.539044  347.118201             300.51619  451.64853  311.852261   \n",
      "\n",
      "   Tower Hamlets  Waltham Forest  Wandsworth  Westminster  \n",
      "0     362.670104      483.475581  375.770935   435.356539  \n",
      "\n",
      "[1 rows x 32 columns]\n",
      "                 Borough  %_of_Increase\n",
      "10               Hackney     519.828556\n",
      "29        Waltham Forest     483.475581\n",
      "26             Southwark     451.648530\n",
      "21              Lewisham     444.922104\n",
      "31           Westminster     435.356539\n",
      "23                Newham     430.539044\n",
      "12              Haringey     413.462496\n",
      "18  Kensington & Chelsea     408.246507\n",
      "20               Lambeth     395.775116\n",
      "5                 Camden     393.535341\n"
     ]
    },
    {
     "data": {
      "text/html": [
       "<div>\n",
       "<style scoped>\n",
       "    .dataframe tbody tr th:only-of-type {\n",
       "        vertical-align: middle;\n",
       "    }\n",
       "\n",
       "    .dataframe tbody tr th {\n",
       "        vertical-align: top;\n",
       "    }\n",
       "\n",
       "    .dataframe thead th {\n",
       "        text-align: right;\n",
       "    }\n",
       "</style>\n",
       "<table border=\"1\" class=\"dataframe\">\n",
       "  <thead>\n",
       "    <tr style=\"text-align: right;\">\n",
       "      <th></th>\n",
       "      <th>%_of_Increase</th>\n",
       "    </tr>\n",
       "  </thead>\n",
       "  <tbody>\n",
       "    <tr>\n",
       "      <th>count</th>\n",
       "      <td>10.000000</td>\n",
       "    </tr>\n",
       "    <tr>\n",
       "      <th>mean</th>\n",
       "      <td>437.678981</td>\n",
       "    </tr>\n",
       "    <tr>\n",
       "      <th>std</th>\n",
       "      <td>39.870859</td>\n",
       "    </tr>\n",
       "    <tr>\n",
       "      <th>min</th>\n",
       "      <td>393.535341</td>\n",
       "    </tr>\n",
       "    <tr>\n",
       "      <th>25%</th>\n",
       "      <td>409.550504</td>\n",
       "    </tr>\n",
       "    <tr>\n",
       "      <th>50%</th>\n",
       "      <td>432.947791</td>\n",
       "    </tr>\n",
       "    <tr>\n",
       "      <th>75%</th>\n",
       "      <td>449.966924</td>\n",
       "    </tr>\n",
       "    <tr>\n",
       "      <th>max</th>\n",
       "      <td>519.828556</td>\n",
       "    </tr>\n",
       "  </tbody>\n",
       "</table>\n",
       "</div>"
      ],
      "text/plain": [
       "       %_of_Increase\n",
       "count      10.000000\n",
       "mean      437.678981\n",
       "std        39.870859\n",
       "min       393.535341\n",
       "25%       409.550504\n",
       "50%       432.947791\n",
       "75%       449.966924\n",
       "max       519.828556"
      ]
     },
     "execution_count": 505,
     "metadata": {},
     "output_type": "execute_result"
    }
   ],
   "source": [
    "def percent(d):\n",
    "    y1998 = float(d['avg_price'][d['year']==1998])\n",
    "    y2018 = float(d['avg_price'][d['year']==2018])\n",
    "    percent_inc = [(y2018-y1998)/y1998*100]\n",
    "    return percent_inc\n",
    "print(percent(properties_final[properties_final['borough']=='Hackney']))\n",
    "percents = {}\n",
    "for b in properties_final['borough'].unique():\n",
    "    borough = properties_final[properties_final['borough'] == b]\n",
    "    percents[b] = percent(borough)\n",
    "percent_df = pd.DataFrame(percents)    \n",
    "print(percent_df.head())\n",
    "properties_percents = percent_df.transpose().reset_index()\n",
    "properties_percents.rename(columns={'index':'Borough', 0:'%_of_Increase'}, inplace=True)\n",
    "high_percent_properties = properties_percents.sort_values(by='%_of_Increase',ascending=False).head(10)\n",
    "print(high_percent_properties)\n",
    "high_percent_properties.describe()\n"
   ]
  },
  {
   "cell_type": "markdown",
   "metadata": {
    "colab_type": "text",
    "id": "NzYUI7FxJpgv"
   },
   "source": [
    "### 4. Conclusion\n",
    "What can you conclude? Type out your conclusion below. \n",
    "\n",
    "Look back at your notebook. Think about how you might summarize what you have done, and prepare a quick presentation on it to your mentor at your next meeting. \n",
    "\n",
    "We hope you enjoyed this practical project. It should have consolidated your data hygiene and pandas skills by looking at a real-world problem involving just the kind of dataset you might encounter as a budding data scientist. Congratulations, and looking forward to seeing you at the next step in the course! "
   ]
  },
  {
   "cell_type": "code",
   "execution_count": 504,
   "metadata": {},
   "outputs": [
    {
     "data": {
      "image/png": "[encoded data removed]",
      "text/plain": [
       "<Figure size 432x288 with 1 Axes>"
      ]
     },
     "metadata": {
      "needs_background": "light"
     },
     "output_type": "display_data"
    }
   ],
   "source": [
    "# Over the past 20 years, average housing prices in some London Boroughs have increased by as much as 500%. The chart below\n",
    "#     depicts the Top 10 boroughs by percentage increase. The average 20-year increase was 438% between 1998 and 2018.\n",
    "high_percent_graph = high_percent_properties.plot(x='Borough', y='%_of_Increase', kind='bar')"
   ]
  }
 ],
 "metadata": {
  "colab": {
   "collapsed_sections": [],
   "name": "Springboard Data Science Career Track Unit 4 Challenge - Tier 3 Complete .ipynb",
   "provenance": []
  },
  "kernelspec": {
   "display_name": "Python 3",
   "language": "python",
   "name": "python3"
  },
  "language_info": {
   "codemirror_mode": {
    "name": "ipython",
    "version": 3
   },
   "file_extension": ".py",
   "mimetype": "text/x-python",
   "name": "python",
   "nbconvert_exporter": "python",
   "pygments_lexer": "ipython3",
   "version": "3.8.8"
  }
 },
 "nbformat": 4,
 "nbformat_minor": 1
}
